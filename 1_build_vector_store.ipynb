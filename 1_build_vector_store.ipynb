{
 "cells": [
  {
   "cell_type": "markdown",
   "metadata": {},
   "source": [
    "# MongoDB Vector Store Builder\n",
    "This notebook builds the MongoDB Atlas vector store by loading, chunking, and embedding documents from all configured sources."
   ]
  },
  {
   "cell_type": "code",
   "execution_count": 1,
   "metadata": {},
   "outputs": [],
   "source": [
    "!pip install -q -r requirements.txt"
   ]
  },
  {
   "cell_type": "code",
   "execution_count": 2,
   "metadata": {},
   "outputs": [
    {
     "name": "stdout",
     "output_type": "stream",
     "text": [
      "Setup complete. Builder function loaded.\n"
     ]
    }
   ],
   "source": [
    "import sys\n",
    "import os\n",
    "from dotenv import load_dotenv\n",
    "sys.path.insert(0, os.path.abspath(os.path.join(os.getcwd(), '..')))\n",
    "from src.vector_store.builder import build_vector_store\n",
    "load_dotenv(dotenv_path='../.env')\n",
    "print(\"Setup complete. Builder function loaded.\")"
   ]
  },
  {
   "cell_type": "markdown",
   "metadata": {},
   "source": [
    "## Run the Builder\n",
    "This cell executes the entire vector store build process. It will create the vector search index if needed, clear the MongoDB collection, and populate it with new document embeddings."
   ]
  },
  {
   "cell_type": "code",
   "execution_count": 3,
   "metadata": {},
   "outputs": [
    {
     "name": "stdout",
     "output_type": "stream",
     "text": [
      "--- Starting MongoDB Atlas Vector Store Build Process ---\n",
      "Vector search index 'vector_index' not found. Creating it now...\n",
      "Initializing embedding model: BAAI/bge-large-en-v1.5\n",
      "Successfully started creation of index 'vector_index'. It may take a few minutes to become ready.\n",
      "Clearing all existing documents from the 'documents_vector_store' collection...\n",
      "Collection cleared.\n",
      "Loading PDFs from data/pdfs...\n",
      "Loaded 89 pages from PDFs.\n",
      "Loading 100 articles from Wikipedia...\n"
     ]
    },
    {
     "name": "stderr",
     "output_type": "stream",
     "text": [
      "Loading Wikipedia Articles:  18%|█▊        | 18/100 [00:35<02:30,  1.84s/it]/Users/luthfiarifin/Documents/Project/PNU/rag-cyber-security-eval/.venv/lib/python3.12/site-packages/wikipedia/wikipedia.py:389: GuessedAtParserWarning: No parser was explicitly specified, so I'm using the best available HTML parser for this system (\"html.parser\"). This usually isn't a problem, but if you run this code on another system, or in a different virtual environment, it may use a different parser and behave differently.\n",
      "\n",
      "The code that caused this warning is on line 389 of the file /Users/luthfiarifin/Documents/Project/PNU/rag-cyber-security-eval/.venv/lib/python3.12/site-packages/wikipedia/wikipedia.py. To get rid of this warning, pass the additional argument 'features=\"html.parser\"' to the BeautifulSoup constructor.\n",
      "\n",
      "  lis = BeautifulSoup(html).find_all('li')\n",
      "Loading Wikipedia Articles: 100%|██████████| 100/100 [02:55<00:00,  1.75s/it]\n"
     ]
    },
    {
     "name": "stdout",
     "output_type": "stream",
     "text": [
      "\n",
      "Chunking 184 total documents...\n",
      "Successfully chunked documents into 2282 chunks.\n",
      "Populating vector store with 2282 document chunks...\n",
      "\n",
      "--- Vector Store Build Process Finished Successfully ---\n",
      "Collection 'documents_vector_store' is populated.\n"
     ]
    }
   ],
   "source": [
    "build_vector_store()"
   ]
  }
 ],
 "metadata": {
  "kernelspec": {
   "display_name": ".venv",
   "language": "python",
   "name": "python3"
  },
  "language_info": {
   "codemirror_mode": {
    "name": "ipython",
    "version": 3
   },
   "file_extension": ".py",
   "mimetype": "text/x-python",
   "name": "python",
   "nbconvert_exporter": "python",
   "pygments_lexer": "ipython3",
   "version": "3.12.10"
  }
 },
 "nbformat": 4,
 "nbformat_minor": 2
}
